{
 "cells": [
  {
   "cell_type": "code",
   "execution_count": 82,
   "metadata": {},
   "outputs": [],
   "source": [
    "import supplyactor\n",
    "import numpy as np"
   ]
  },
  {
   "cell_type": "markdown",
   "metadata": {},
   "source": [
    "Paramètres "
   ]
  },
  {
   "cell_type": "code",
   "execution_count": 83,
   "metadata": {},
   "outputs": [],
   "source": [
    "n = 10\n",
    "supplyactor.SurStock = 1.001\n",
    "VarTM = 5\n"
   ]
  },
  {
   "cell_type": "markdown",
   "metadata": {},
   "source": [
    "Scénario 1"
   ]
  },
  {
   "cell_type": "code",
   "execution_count": 84,
   "metadata": {},
   "outputs": [],
   "source": [
    "Magasin = []\n",
    "for i in range(n):\n",
    "    Magasin.append(supplyactor.Supermarket(1+VarTM*np.random.random(),\"marque\"+str(i),i))\n",
    "\n",
    "for magasin in Magasin : \n",
    "    magasin.clients.append(supplyactor.Customer(10*magasin.taille,2*magasin.taille))"
   ]
  },
  {
   "cell_type": "code",
   "execution_count": 85,
   "metadata": {},
   "outputs": [],
   "source": [
    "for i in range(10*supplyactor.grande_période) : \n",
    "    for magasin in Magasin : \n",
    "        for client in magasin.clients : \n",
    "            client.ARMA()\n",
    "\n",
    "for i in range(10*supplyactor.grande_période) : \n",
    "    for magasin in Magasin : \n",
    "        magasin.EnregistrementDemande()\n",
    "        for client in magasin.clients : \n",
    "            client.ARMA()\n"
   ]
  },
  {
   "cell_type": "code",
   "execution_count": 86,
   "metadata": {},
   "outputs": [],
   "source": [
    "for magasin in Magasin : \n",
    "    magasin.Commande()"
   ]
  },
  {
   "cell_type": "code",
   "execution_count": 87,
   "metadata": {},
   "outputs": [],
   "source": [
    "for i in range(100*supplyactor.grande_période):\n",
    "    supplyactor.temps()\n",
    "    for magasin in Magasin:\n",
    "        magasin.Inventaire()\n",
    "        magasin.Vente()\n",
    "        \n",
    "        magasin.EnregistrementDemande()\n",
    "        for client in magasin.clients : \n",
    "            client.ARMA()\n",
    "        if i % supplyactor.grande_période == 0:\n",
    "            magasin.Inventaire()\n",
    "         \n",
    "            magasin.Commande()\n",
    "\n",
    "        \n"
   ]
  },
  {
   "cell_type": "code",
   "execution_count": 88,
   "metadata": {},
   "outputs": [
    {
     "name": "stdout",
     "output_type": "stream",
     "text": [
      "{'lait': 125.50009697200065, 'oeuf': 59.43428120793865, 'beurre': 284.52272191681584, 'crème': 94.30686370678015, 'fromage': 68.27935496261286, 'ménage': 105.01611624598341, 'aménagement': 68.41364087269264, 'légumes': 84.13611485660763}\n",
      "{'lait': 125.15157082043255, 'oeuf': 104.47601581534926, 'beurre': 112.51709400739398, 'crème': 71.45198412627575, 'fromage': 203.39432159502954, 'ménage': 85.69332790513582, 'aménagement': 67.0367985286824, 'légumes': 80.01414023764224}\n",
      "{'lait': 320.47338833694766, 'oeuf': 61.0389731768989, 'beurre': 277.75218993683575, 'crème': 237.07350259162536, 'fromage': 172.17352622204828, 'ménage': 319.9127121175468, 'aménagement': 114.33755199154568, 'légumes': 542.5666093695668}\n",
      "{'lait': 70.80920357685802, 'oeuf': 100.11939856451907, 'beurre': 184.3036190473017, 'crème': 77.12855027603752, 'fromage': 65.92164195225558, 'ménage': 154.4174545725902, 'aménagement': 205.72760143706594, 'légumes': 52.74779557567095}\n",
      "{'lait': 117.59808714279383, 'oeuf': 75.0297688902163, 'beurre': 77.87578392131363, 'crème': 71.17834061795506, 'fromage': 92.72861079194757, 'ménage': 140.90814318111512, 'aménagement': 171.2205040777668, 'légumes': 208.46143759521428}\n",
      "{'lait': 61.72033228712127, 'oeuf': 76.97008467473826, 'beurre': 438.8019003920977, 'crème': 75.1402232131521, 'fromage': 85.53579928902694, 'ménage': 65.09682489263977, 'aménagement': 118.24300288103801, 'légumes': 55.94606151690873}\n",
      "{'lait': 97.49176004619727, 'oeuf': 166.17022274279833, 'beurre': 251.85322587666352, 'crème': 108.21595170528384, 'fromage': 82.40538982499672, 'ménage': 93.85704599928117, 'aménagement': 183.12645957069927, 'légumes': 58.80301912874167}\n",
      "{'lait': 138.03967062722552, 'oeuf': 88.40975339118033, 'beurre': 58.981264168929975, 'crème': 75.01128686584082, 'fromage': 50.95017180329902, 'ménage': 323.72456915362943, 'aménagement': 50.491379125911166, 'légumes': 109.82254379762706}\n",
      "{'lait': 168.59950739759353, 'oeuf': 227.99034606951938, 'beurre': 111.56528097927207, 'crème': 340.9639858176972, 'fromage': 458.0436521610057, 'ménage': 142.90042408591137, 'aménagement': 81.44538935940184, 'légumes': 122.17446791892039}\n",
      "{'lait': 79.81284720417676, 'oeuf': 139.59241701536413, 'beurre': 86.37812100131012, 'crème': 88.91598156536779, 'fromage': 85.23235010209717, 'ménage': 121.74946893380721, 'aménagement': 123.42224441739906, 'légumes': 97.66438125879051}\n"
     ]
    }
   ],
   "source": [
    "Gaspillage = 0\n",
    "\n",
    "for magasin in Magasin : \n",
    "    x = magasin.Rebut()\n",
    "    print(x)\n",
    "    for product in x.keys() :\n",
    "        Gaspillage += x[product]\n",
    "Pénurie = 0\n",
    "for magasin in Magasin : \n",
    "    Pénurie += magasin.quantitéRupture \n",
    "Ventes = 0\n",
    "for magasin in Magasin : \n",
    "    Ventes += magasin.ventes\n",
    "\n",
    "Scénario1 = {\"Pénurie\" : Pénurie, \"Gaspillage\":Gaspillage,\"Ventes\":Ventes}"
   ]
  },
  {
   "cell_type": "code",
   "execution_count": 89,
   "metadata": {},
   "outputs": [
    {
     "name": "stdout",
     "output_type": "stream",
     "text": [
      "Articles en rupture de stock : 19891.60861194875\n",
      "Articles jetés : 11042.107647003675\n",
      "Total des ventes : 6684588.313925985\n",
      "Gaspillage/commandes : 0.16491513049206769 %\n",
      "Rupture/ventes : 0.2975741762661526 %\n"
     ]
    }
   ],
   "source": [
    "print(\"Articles en rupture de stock : \" + str(Pénurie))\n",
    "print(\"Articles jetés : \"+ str(Gaspillage))\n",
    "print(\"Total des ventes : \"+str(Ventes))\n",
    "print(\"Gaspillage/commandes : \"+  str(100*Gaspillage/(Gaspillage+Ventes)) + \" %\")\n",
    "print(\"Rupture/ventes : \"+  str(100*Pénurie/Ventes) +\" %\")"
   ]
  },
  {
   "cell_type": "markdown",
   "metadata": {},
   "source": [
    "Scénario 2 : Donnation à une seule organisation "
   ]
  },
  {
   "cell_type": "code",
   "execution_count": 90,
   "metadata": {},
   "outputs": [],
   "source": [
    "#instantiation des magasins\n",
    "Magasin = []\n",
    "for i in range(n):\n",
    "    Magasin.append(supplyactor.Supermarket(1+VarTM*np.random.random(),\"marque\"+str(i),i))\n",
    "\n",
    "for magasin in Magasin : \n",
    "    magasin.clients.append(supplyactor.Customer(10*magasin.taille,2*magasin.taille))\n",
    "    magasin.BanqueDeDons.append(supplyactor.BanqueAlimentaire(0.1*magasin.taille,0.02*magasin.taille))"
   ]
  },
  {
   "cell_type": "code",
   "execution_count": 91,
   "metadata": {},
   "outputs": [],
   "source": [
    "#initialisation de la demande des clients et de la collecte des magasins \n",
    "for i in range(10*supplyactor.grande_période) : \n",
    "    for magasin in Magasin : \n",
    "        for client in magasin.clients : \n",
    "            client.ARMA()\n",
    "\n",
    "for i in range(10*supplyactor.grande_période) : \n",
    "    for magasin in Magasin : \n",
    "        magasin.EnregistrementDemande()\n",
    "        for client in magasin.clients : \n",
    "            client.ARMA()\n",
    "for magasin in Magasin : \n",
    "    magasin.Commande()\n"
   ]
  },
  {
   "cell_type": "code",
   "execution_count": 92,
   "metadata": {},
   "outputs": [],
   "source": [
    "#Simulation\n",
    "for i in range(100*supplyactor.grande_période):\n",
    "    supplyactor.temps()\n",
    "    for magasin in Magasin:\n",
    "        magasin.Inventaire()\n",
    "        magasin.Vente()\n",
    "        magasin.Dons()\n",
    "\n",
    "        magasin.EnregistrementDemande()\n",
    "        for client in magasin.clients : \n",
    "            client.ARMA()\n",
    "        for banque in magasin.BanqueDeDons : \n",
    "            banque.ARMA()\n",
    "        if i % supplyactor.grande_période == 0:\n",
    "            magasin.Inventaire()\n",
    "         \n",
    "            magasin.Commande()"
   ]
  },
  {
   "cell_type": "code",
   "execution_count": 93,
   "metadata": {},
   "outputs": [
    {
     "name": "stdout",
     "output_type": "stream",
     "text": [
      "{'lait': 52.31306971568839, 'oeuf': 30.807237711193434, 'beurre': 42.912593897779765, 'crème': 30.516557772977464, 'fromage': 69.4776829136638, 'ménage': 59.630062563399775, 'aménagement': 71.03889115225692, 'légumes': 33.354474023823805}\n",
      "{'lait': 64.80494631482264, 'oeuf': 70.50910012601874, 'beurre': 140.13115356969402, 'crème': 39.493740519634876, 'fromage': 15.86217287878802, 'ménage': 58.803352237103155, 'aménagement': 123.48662755003967, 'légumes': 104.16819867008061}\n",
      "{'lait': 79.02254389572458, 'oeuf': 53.02150320018263, 'beurre': 34.895339114081025, 'crème': 85.95043253529859, 'fromage': 347.6147658665449, 'ménage': 285.94800256354864, 'aménagement': 37.83972800409402, 'légumes': 107.77170318675677}\n",
      "{'lait': 33.614700465644745, 'oeuf': 91.37975991926375, 'beurre': 39.51659150009304, 'crème': 132.71202535116248, 'fromage': 67.7644901398528, 'ménage': 66.55995978464829, 'aménagement': 128.22211632040936, 'légumes': 160.12288538350293}\n",
      "{'lait': 170.25584731593557, 'oeuf': 152.496677677393, 'beurre': 22.03134764078299, 'crème': 32.01993581269257, 'fromage': 84.09537089131877, 'ménage': 63.545095313689814, 'aménagement': 156.10669432813722, 'légumes': 21.601487502615303}\n",
      "{'lait': 165.7441873070634, 'oeuf': 270.6317977983721, 'beurre': 338.77620233259717, 'crème': 178.53089720119655, 'fromage': 100.42022717272629, 'ménage': 42.08620210281006, 'aménagement': 221.38176341866114, 'légumes': 50.27369001168156}\n",
      "{'lait': 73.24259574743087, 'oeuf': 42.008355294308146, 'beurre': 57.484665609616954, 'crème': 38.611584150253584, 'fromage': 54.50916282058288, 'ménage': 64.34279604452468, 'aménagement': 71.0026833328764, 'légumes': 45.93694472053761}\n",
      "{'lait': 88.05476922957989, 'oeuf': 91.34195539102305, 'beurre': 213.61851684303295, 'crème': 243.64445838811451, 'fromage': 208.099434579385, 'ménage': 73.28980888578485, 'aménagement': 165.46468000361412, 'légumes': 29.464112741933775}\n",
      "{'lait': 47.49995293678301, 'oeuf': 42.90827518702554, 'beurre': 127.61443946823623, 'crème': 54.38947209999628, 'fromage': 129.69190936717064, 'ménage': 62.531455828739226, 'aménagement': 70.0570430562076, 'légumes': 54.60591492172628}\n",
      "{'lait': 53.80298974978192, 'oeuf': 143.15744386849283, 'beurre': 99.08912229867074, 'crème': 24.524501176201202, 'fromage': 59.30579424311488, 'ménage': 32.934046615836664, 'aménagement': 139.28158492508692, 'légumes': 125.88109169715167}\n"
     ]
    }
   ],
   "source": [
    "#Collecte des résultats\n",
    "Gaspillage = 0\n",
    "\n",
    "for magasin in Magasin : \n",
    "    x = magasin.Rebut()\n",
    "    print(x)\n",
    "    for product in x.keys() :\n",
    "        Gaspillage += x[product]\n",
    "Pénurie = 0\n",
    "for magasin in Magasin : \n",
    "    Pénurie += magasin.quantitéRupture \n",
    "Ventes = 0\n",
    "for magasin in Magasin : \n",
    "    Ventes += magasin.ventes\n",
    "Dons = 0 \n",
    "for magasin in Magasin : \n",
    "    Dons += magasin.dons\n",
    "\n",
    "Scénario2 = {\"Pénurie\" : Pénurie, \"Gaspillage\":Gaspillage,\"Ventes\":Ventes, \"Dons\":Dons}"
   ]
  },
  {
   "cell_type": "code",
   "execution_count": 94,
   "metadata": {},
   "outputs": [
    {
     "name": "stdout",
     "output_type": "stream",
     "text": [
      "Articles en rupture de stock : 20704.14045330932\n",
      "Articles jetés : 7656.655393898264\n",
      "Articles données : 2822.6130229940686\n",
      "Total des ventes : 5203972.080987374\n",
      "Gaspillage/commandes : 0.14691482799702865 %\n",
      "Rupture/ventes : 0.3978526427716927 %\n"
     ]
    }
   ],
   "source": [
    "#Affichage\n",
    "print(\"Articles en rupture de stock : \" + str(Pénurie))\n",
    "print(\"Articles jetés : \"+ str(Gaspillage))\n",
    "print(\"Articles données : \"+ str(Dons))\n",
    "print(\"Total des ventes : \"+str(Ventes))\n",
    "print(\"Gaspillage/commandes : \"+  str(100*Gaspillage/(Gaspillage+Ventes)) + \" %\")\n",
    "print(\"Rupture/ventes : \"+  str(100*Pénurie/Ventes) +\" %\")"
   ]
  },
  {
   "cell_type": "markdown",
   "metadata": {},
   "source": [
    "Scénario 3 : donnation à un groupe d'association"
   ]
  },
  {
   "cell_type": "code",
   "execution_count": 95,
   "metadata": {},
   "outputs": [],
   "source": [
    "#instantiation des magasins\n",
    "Magasin = []\n",
    "Banques = []\n",
    "for i in range(n):\n",
    "    taille = 1+VarTM*np.random.random()\n",
    "    Magasin.append(supplyactor.Supermarket(taille,\"marque\"+str(i),i))\n",
    "    Banques.append(supplyactor.BanqueAlimentaire(0.1*taille,0.02*taille))\n",
    "    \n",
    "for magasin in Magasin : \n",
    "    magasin.clients.append(supplyactor.Customer(10*magasin.taille,2*magasin.taille))\n",
    "    magasin.BanqueDeDons = Banques"
   ]
  },
  {
   "cell_type": "code",
   "execution_count": 96,
   "metadata": {},
   "outputs": [],
   "source": [
    "#initialisation de la demande des clients et de la collecte des magasins \n",
    "for i in range(10*supplyactor.grande_période) : \n",
    "    for magasin in Magasin : \n",
    "        for client in magasin.clients : \n",
    "            client.ARMA()\n",
    "\n",
    "for i in range(10*supplyactor.grande_période) : \n",
    "    for banque in Banques : \n",
    "        banque.ARMA()\n",
    "    for magasin in Magasin : \n",
    "        magasin.EnregistrementDemande()\n",
    "        for client in magasin.clients : \n",
    "            client.ARMA()\n",
    "for magasin in Magasin : \n",
    "    magasin.Commande()\n"
   ]
  },
  {
   "cell_type": "code",
   "execution_count": 97,
   "metadata": {},
   "outputs": [],
   "source": [
    "#Simulation\n",
    "for i in range(100*supplyactor.grande_période):\n",
    "    supplyactor.temps()\n",
    "    for banque in Banques : \n",
    "        banque.ARMA()\n",
    "    for magasin in Magasin:\n",
    "        magasin.Inventaire()\n",
    "        magasin.Vente()\n",
    "        magasin.Dons()\n",
    "\n",
    "        magasin.EnregistrementDemande()\n",
    "        for client in magasin.clients : \n",
    "            client.ARMA()\n",
    "        \n",
    "        if i % supplyactor.grande_période == 0:\n",
    "            magasin.Inventaire()\n",
    "         \n",
    "            magasin.Commande()"
   ]
  },
  {
   "cell_type": "code",
   "execution_count": 98,
   "metadata": {},
   "outputs": [
    {
     "name": "stdout",
     "output_type": "stream",
     "text": [
      "{'lait': 0, 'oeuf': 0, 'beurre': 0, 'crème': 0, 'fromage': 0.8033091190828274, 'ménage': 0, 'aménagement': 0, 'légumes': 216.88956611688232}\n",
      "{'lait': 0, 'oeuf': 0, 'beurre': 0, 'crème': 7.570716804972348, 'fromage': 3.3531897035651586, 'ménage': 11.683238137132363, 'aménagement': 7.44786396159215, 'légumes': 14.119247374324207}\n",
      "{'lait': 2.06096252232569, 'oeuf': 11.035800714005386, 'beurre': 3.0313280078180167, 'crème': 72.79416056165348, 'fromage': 33.041394285552045, 'ménage': 0.274439012233735, 'aménagement': 58.197817660689616, 'légumes': 99.91711705256887}\n",
      "{'lait': 27.920341366127676, 'oeuf': 1.609856503750363, 'beurre': 0.5228380232510286, 'crème': 4.020649046990265, 'fromage': 26.42022108568043, 'ménage': 2.6213887865613854, 'aménagement': 30.76080446585806, 'légumes': 35.110202759137394}\n",
      "{'lait': 29.464216117792287, 'oeuf': 3.455793870542667, 'beurre': 0, 'crème': 30.431499788780723, 'fromage': 88.20259745043352, 'ménage': 4.851544894135294, 'aménagement': 138.7908160462795, 'légumes': 70.41780943735111}\n",
      "{'lait': 10.288192971222418, 'oeuf': 41.5150424295515, 'beurre': 15.936411230197542, 'crème': 14.517655271891602, 'fromage': 9.003120408563412, 'ménage': 5.391574372066538, 'aménagement': 82.4814793582326, 'légumes': 27.32821313004985}\n",
      "{'lait': 13.311949968684743, 'oeuf': 30.614645973938302, 'beurre': 9.586352169591608, 'crème': 31.454437552746217, 'fromage': 30.531607703298462, 'ménage': 7.055430066646993, 'aménagement': 120.96749213900969, 'légumes': 18.350469667773343}\n",
      "{'lait': 13.254093397740748, 'oeuf': 15.618517896346875, 'beurre': 8.331350319049648, 'crème': 49.74393796562981, 'fromage': 246.60503283471292, 'ménage': 3.018988305505072, 'aménagement': 73.675765343424, 'légumes': 62.8804112714479}\n",
      "{'lait': 17.74364584584046, 'oeuf': 32.28620937424715, 'beurre': 15.239259131102482, 'crème': 36.3680248356839, 'fromage': 22.050672580481617, 'ménage': 26.26863494042786, 'aménagement': 57.58907895312856, 'légumes': 66.90346871808552}\n",
      "{'lait': 32.16537956693172, 'oeuf': 27.990241070812136, 'beurre': 14.801928927132815, 'crème': 55.397951060226035, 'fromage': 30.285002919997684, 'ménage': 26.967139346535387, 'aménagement': 683.5761568301324, 'légumes': 143.19781357582463}\n"
     ]
    }
   ],
   "source": [
    "#Collecte des résultats\n",
    "Gaspillage = 0\n",
    "\n",
    "for magasin in Magasin : \n",
    "    x = magasin.Rebut()\n",
    "    print(x)\n",
    "    for product in x.keys() :\n",
    "        Gaspillage += x[product]\n",
    "Pénurie = 0\n",
    "for magasin in Magasin : \n",
    "    Pénurie += magasin.quantitéRupture \n",
    "Ventes = 0\n",
    "for magasin in Magasin : \n",
    "    Ventes += magasin.ventes\n",
    "Dons = 0 \n",
    "for magasin in Magasin : \n",
    "    Dons += magasin.dons\n",
    "\n",
    "Scénario3 = {\"Pénurie\" : Pénurie, \"Gaspillage\":Gaspillage,\"Ventes\":Ventes, \"Dons\":Dons}"
   ]
  },
  {
   "cell_type": "code",
   "execution_count": 99,
   "metadata": {},
   "outputs": [
    {
     "name": "stdout",
     "output_type": "stream",
     "text": [
      "Articles en rupture de stock : 21261.809136405132\n",
      "Articles jetés : 3267.1135101009822\n",
      "Articles données : 7443.671622656777\n",
      "Total des ventes : 6261884.543909831\n",
      "Gaspillage/commandes : 0.05214739704236339 %\n",
      "Rupture/ventes : 0.3395432954298701 %\n"
     ]
    }
   ],
   "source": [
    "#Affichage\n",
    "print(\"Articles en rupture de stock : \" + str(Pénurie))\n",
    "print(\"Articles jetés : \"+ str(Gaspillage))\n",
    "print(\"Articles données : \"+ str(Dons))\n",
    "print(\"Total des ventes : \"+str(Ventes))\n",
    "print(\"Gaspillage/commandes : \"+  str(100*Gaspillage/(Gaspillage+Ventes)) + \" %\")\n",
    "print(\"Rupture/ventes : \"+  str(100*Pénurie/Ventes) +\" %\")"
   ]
  },
  {
   "cell_type": "markdown",
   "metadata": {},
   "source": [
    "Comparaison des résulats"
   ]
  },
  {
   "cell_type": "code",
   "execution_count": 100,
   "metadata": {},
   "outputs": [
    {
     "name": "stdout",
     "output_type": "stream",
     "text": [
      "amélioration dans le scénario2\n",
      "Gaspillage réduit d'un facteur :  1.442158106763345\n",
      "Rupture réduit d'un facteur :  0.9607551038792005\n",
      "Ventes augmentée d'un facteur 1.2845165596387456\n",
      "amélioration dans le scénario3\n",
      "Gaspillage réduit d'un facteur :  3.379774719447191\n",
      "Rupture réduit d'un facteur :  0.9355557885189422\n",
      "Ventes augmentée d'un facteur 1.0675042420619631\n"
     ]
    }
   ],
   "source": [
    "print(\"amélioration dans le scénario2\")\n",
    "print(\"Gaspillage réduit d'un facteur : \",Scénario1[\"Gaspillage\"]/Scénario2[\"Gaspillage\"])\n",
    "print(\"Rupture réduit d'un facteur : \",Scénario1[\"Pénurie\"]/Scénario2[\"Pénurie\"])\n",
    "print(\"Ventes augmentée d'un facteur\",Scénario1[\"Ventes\"]/Scénario2[\"Ventes\"])\n",
    "print(\"amélioration dans le scénario3\")\n",
    "print(\"Gaspillage réduit d'un facteur : \",Scénario1[\"Gaspillage\"]/Scénario3[\"Gaspillage\"])\n",
    "print(\"Rupture réduit d'un facteur : \",Scénario1[\"Pénurie\"]/Scénario3[\"Pénurie\"])\n",
    "print(\"Ventes augmentée d'un facteur\",Scénario1[\"Ventes\"]/Scénario3[\"Ventes\"])"
   ]
  }
 ],
 "metadata": {
  "kernelspec": {
   "display_name": "Python 3",
   "language": "python",
   "name": "python3"
  },
  "language_info": {
   "codemirror_mode": {
    "name": "ipython",
    "version": 3
   },
   "file_extension": ".py",
   "mimetype": "text/x-python",
   "name": "python",
   "nbconvert_exporter": "python",
   "pygments_lexer": "ipython3",
   "version": "3.11.5"
  }
 },
 "nbformat": 4,
 "nbformat_minor": 2
}
