{
 "cells": [
  {
   "cell_type": "markdown",
   "metadata": {},
   "source": [
    "Imports"
   ]
  },
  {
   "cell_type": "code",
   "execution_count": 118,
   "metadata": {},
   "outputs": [],
   "source": [
    "import supplyactor #Ensemble des classes qui définissent les acteurs de la grande distribution\n",
    "import numpy as np\n",
    "from tqdm import tqdm"
   ]
  },
  {
   "cell_type": "markdown",
   "metadata": {},
   "source": [
    "Paramètres "
   ]
  },
  {
   "cell_type": "code",
   "execution_count": 46,
   "metadata": {},
   "outputs": [],
   "source": [
    "n = 50 #nombre de magasin\n",
    "supplyactor.SurStock = 1.001 #surstock en poucentage qu'effectuent les magasisns à chaque commande par rapport à leur prévisions \n",
    "VarTM = 5 #variation de la taille des magasins \n"
   ]
  },
  {
   "cell_type": "markdown",
   "metadata": {},
   "source": [
    "Scénario 1"
   ]
  },
  {
   "cell_type": "code",
   "execution_count": 47,
   "metadata": {},
   "outputs": [],
   "source": [
    "#instanciation des magasins et des clients \n",
    "Magasin = []\n",
    "for i in range(n):\n",
    "    Magasin.append(supplyactor.Supermarket(1+VarTM*np.random.random(),\"marque\"+str(i),i))\n",
    "\n",
    "for magasin in Magasin : \n",
    "    magasin.clients.append(supplyactor.Customer(10*magasin.taille,2*magasin.taille))"
   ]
  },
  {
   "cell_type": "code",
   "execution_count": 48,
   "metadata": {},
   "outputs": [],
   "source": [
    "#initialisation des process ARMA pour les clients\n",
    "for i in range(10*supplyactor.grande_période) : \n",
    "    for magasin in Magasin : \n",
    "        for client in magasin.clients : \n",
    "            client.ARMA()\n",
    "\n",
    "#initialisation des prédictions pour les magasins\n",
    "for i in range(10*supplyactor.grande_période) : \n",
    "    for magasin in Magasin : \n",
    "        magasin.EnregistrementDemande()\n",
    "        for client in magasin.clients : \n",
    "            client.ARMA()\n",
    "\n",
    "#première commande \n",
    "for magasin in Magasin : \n",
    "    magasin.Commande()"
   ]
  },
  {
   "cell_type": "code",
   "execution_count": 50,
   "metadata": {},
   "outputs": [],
   "source": [
    "#simulation \n",
    "for i in tqdm(range(100*supplyactor.grande_période)):\n",
    "    \n",
    "    supplyactor.temps()#incrément de temps \n",
    "\n",
    "    for magasin in Magasin:\n",
    "        magasin.Inventaire() #état des stocks\n",
    "        magasin.Vente() #ventes aux clients des produits disponible en fonction des demandes de leur clients \n",
    "        magasin.EnregistrementDemande() #enregistrement de la demande des clients pour les commandes futures \n",
    "\n",
    "        for client in magasin.clients : \n",
    "            client.ARMA() #actualisation de la demade des clients \n",
    "\n",
    "        if i % supplyactor.grande_période == 0:\n",
    "            magasin.Inventaire() #état des stocks\n",
    "            magasin.Commande() #commande aux suppliers"
   ]
  },
  {
   "cell_type": "code",
   "execution_count": 51,
   "metadata": {},
   "outputs": [
    {
     "name": "stdout",
     "output_type": "stream",
     "text": [
      "{'lait': 628.5458111850652, 'oeuf': 479.3200046839829, 'beurre': 86.4028303003633, 'crème': 75.66556898960042, 'fromage': 135.99984426156905, 'Goûter': 61.35504293246754, 'Fruit': 152.73800609532483, 'légumes': 463.157721861087}\n",
      "{'lait': 176.21948233345387, 'oeuf': 34.320086859604665, 'beurre': 231.6929554140668, 'crème': 67.44776451622478, 'fromage': 86.75116179760349, 'Goûter': 111.4052917052594, 'Fruit': 57.83740743438318, 'légumes': 62.07786730443838}\n",
      "{'lait': 67.42238813307678, 'oeuf': 120.862249071387, 'beurre': 111.51265295336428, 'crème': 155.9191987091412, 'fromage': 312.79059039053953, 'Goûter': 159.84697641766482, 'Fruit': 163.6409336416507, 'légumes': 69.35071641614684}\n",
      "{'lait': 129.16247605253244, 'oeuf': 131.92618444712556, 'beurre': 101.44487283873542, 'crème': 123.33193600822611, 'fromage': 96.7359823424475, 'Goûter': 83.82836030363313, 'Fruit': 47.8301709284518, 'légumes': 97.30968772258063}\n",
      "{'lait': 132.43608686664254, 'oeuf': 136.2966555074753, 'beurre': 90.32446861167725, 'crème': 104.69233347148361, 'fromage': 85.54458133224817, 'Goûter': 72.5593462776995, 'Fruit': 80.55453637587807, 'légumes': 81.24969477008273}\n",
      "{'lait': 382.92397105708625, 'oeuf': 79.13191266032062, 'beurre': 284.9042693152975, 'crème': 226.14860874812393, 'fromage': 164.51950908306637, 'Goûter': 71.28280978198546, 'Fruit': 163.8126801462266, 'légumes': 264.9882179812689}\n",
      "{'lait': 58.74093909820628, 'oeuf': 44.15329224313529, 'beurre': 116.29835170173055, 'crème': 226.2901821682525, 'fromage': 262.6895921419007, 'Goûter': 172.60032446494122, 'Fruit': 82.28181947628681, 'légumes': 133.19648661792556}\n",
      "{'lait': 55.407637507157006, 'oeuf': 123.08784586792153, 'beurre': 120.62476470599039, 'crème': 69.14733018312845, 'fromage': 64.11559495545094, 'Goûter': 254.99019423623676, 'Fruit': 383.40608530977755, 'légumes': 102.19346209011026}\n",
      "{'lait': 140.47558884565393, 'oeuf': 76.3437924066541, 'beurre': 56.472532362001495, 'crème': 72.29718121139474, 'fromage': 67.52839801431193, 'Goûter': 71.70206896430528, 'Fruit': 87.39340318700124, 'légumes': 300.583335887697}\n",
      "{'lait': 98.78340910929258, 'oeuf': 96.80530810402323, 'beurre': 182.11277800221183, 'crème': 79.98829599813688, 'fromage': 75.0250929672465, 'Goûter': 193.86792753046785, 'Fruit': 91.06028740023368, 'légumes': 115.56744345803664}\n",
      "{'lait': 94.37876601302763, 'oeuf': 36.83785656254688, 'beurre': 81.15567890421428, 'crème': 84.88291470488909, 'fromage': 220.2017807953464, 'Goûter': 113.07614950949198, 'Fruit': 85.1975836316472, 'légumes': 78.5860433221003}\n",
      "{'lait': 158.37280129857425, 'oeuf': 61.15218545589792, 'beurre': 177.33776154217918, 'crème': 161.08507423578175, 'fromage': 144.40624565172286, 'Goûter': 194.4742320132616, 'Fruit': 107.55846714544474, 'légumes': 99.43137681681512}\n",
      "{'lait': 89.56131212505679, 'oeuf': 112.88868693256845, 'beurre': 180.845290094044, 'crème': 109.32014911061532, 'fromage': 103.70613221366943, 'Goûter': 67.50362244517353, 'Fruit': 98.79605679338529, 'légumes': 188.14801251748614}\n",
      "{'lait': 224.94180830034605, 'oeuf': 74.12226247176275, 'beurre': 62.520859916781845, 'crème': 238.64568465303938, 'fromage': 149.19741268654928, 'Goûter': 85.02121959914263, 'Fruit': 104.38134409855695, 'légumes': 157.92443657010332}\n",
      "{'lait': 85.58946380977166, 'oeuf': 39.52053007463821, 'beurre': 87.55842398819487, 'crème': 61.577984406617546, 'fromage': 194.83155342027987, 'Goûter': 541.4475123493604, 'Fruit': 112.91141187078563, 'légumes': 439.18433368870626}\n",
      "{'lait': 122.47233030138312, 'oeuf': 441.6053971282132, 'beurre': 160.3816567367688, 'crème': 154.63936752393437, 'fromage': 218.01943592652617, 'Goûter': 80.84150572052893, 'Fruit': 164.25148372664265, 'légumes': 169.635988186455}\n",
      "{'lait': 60.39992499541486, 'oeuf': 212.84686973527496, 'beurre': 207.9739740662076, 'crème': 82.18057125158124, 'fromage': 174.65544713259754, 'Goûter': 81.66958770547001, 'Fruit': 138.56665562934194, 'légumes': 194.32296253513522}\n",
      "{'lait': 120.87091633201975, 'oeuf': 1152.875074857249, 'beurre': 251.15427139018038, 'crème': 131.13565210482514, 'fromage': 63.683580574430984, 'Goûter': 108.74076866622418, 'Fruit': 87.25841104258151, 'légumes': 54.973933103977124}\n",
      "{'lait': 89.02194505172248, 'oeuf': 82.17556409692199, 'beurre': 80.872681639956, 'crème': 102.69223725491638, 'fromage': 191.28326276032914, 'Goûter': 182.09338533217007, 'Fruit': 111.6850568656746, 'légumes': 71.71900391862917}\n",
      "{'lait': 184.38676688212053, 'oeuf': 468.5674110829159, 'beurre': 215.01935588128774, 'crème': 73.42370886440935, 'fromage': 68.78759678202552, 'Goûter': 135.2885156820098, 'Fruit': 139.03038574804168, 'légumes': 76.07809004587914}\n",
      "{'lait': 79.87258394757848, 'oeuf': 101.57829588041216, 'beurre': 98.30735841293728, 'crème': 122.13682486071608, 'fromage': 147.04403341084026, 'Goûter': 98.10054082046067, 'Fruit': 78.81945675641464, 'légumes': 151.84618968105903}\n",
      "{'lait': 129.37528593347568, 'oeuf': 142.70677322449563, 'beurre': 80.60731340832436, 'crème': 65.30962758223882, 'fromage': 91.4141260418136, 'Goûter': 419.67476926462894, 'Fruit': 53.671698153737395, 'légumes': 131.68076688192025}\n",
      "{'lait': 103.29508363824486, 'oeuf': 98.76404247446548, 'beurre': 175.03089509154762, 'crème': 196.96094323667216, 'fromage': 98.57459882010619, 'Goûter': 105.84935160704543, 'Fruit': 134.93127069476822, 'légumes': 168.84215485139765}\n",
      "{'lait': 240.0217537766277, 'oeuf': 69.34040898046007, 'beurre': 95.03935264554434, 'crème': 85.10687588727431, 'fromage': 78.92850912491149, 'Goûter': 559.8034970249205, 'Fruit': 89.54292606652112, 'légumes': 240.24234678515995}\n",
      "{'lait': 77.12615010498588, 'oeuf': 91.40828086002855, 'beurre': 140.17964595815846, 'crème': 94.54032120107038, 'fromage': 68.8423376135544, 'Goûter': 75.57910819566195, 'Fruit': 209.9035260403088, 'légumes': 156.1260227049146}\n",
      "{'lait': 216.60186172671644, 'oeuf': 63.9768042083741, 'beurre': 95.76087404494103, 'crème': 52.496376673504884, 'fromage': 124.21679354949772, 'Goûter': 66.01442322985136, 'Fruit': 76.00344142553821, 'légumes': 107.89996818079645}\n",
      "{'lait': 78.86888102290905, 'oeuf': 56.302041288526546, 'beurre': 329.19239560771706, 'crème': 84.62642640734694, 'fromage': 95.31456137800944, 'Goûter': 125.80212132372398, 'Fruit': 196.9584603925497, 'légumes': 117.31197963830115}\n",
      "{'lait': 143.02038405800027, 'oeuf': 72.4181362053244, 'beurre': 80.00600651065592, 'crème': 68.19368192219294, 'fromage': 108.91874577430374, 'Goûter': 195.35137590561396, 'Fruit': 94.36262258958418, 'légumes': 93.33329817520108}\n",
      "{'lait': 69.67630619096617, 'oeuf': 84.59583563788236, 'beurre': 83.70384655342744, 'crème': 225.27910607585864, 'fromage': 139.37920250073242, 'Goûter': 265.009431179977, 'Fruit': 60.964968965404815, 'légumes': 167.6975324060901}\n",
      "{'lait': 109.10110085323544, 'oeuf': 55.28991274234472, 'beurre': 63.407720395827226, 'crème': 88.62179998291408, 'fromage': 92.41436215879517, 'Goûter': 107.47578386099029, 'Fruit': 47.004614960375086, 'légumes': 257.60770248458635}\n",
      "{'lait': 126.68027212795269, 'oeuf': 62.35835005963871, 'beurre': 103.78312821036198, 'crème': 218.99505809761948, 'fromage': 129.84891942605105, 'Goûter': 130.12589843316204, 'Fruit': 95.62171278778342, 'légumes': 154.09270199205136}\n",
      "{'lait': 59.25000965857174, 'oeuf': 69.41560986624518, 'beurre': 136.41221913728162, 'crème': 129.0170543392878, 'fromage': 182.99339054249333, 'Goûter': 60.65653701960299, 'Fruit': 125.7519879119659, 'légumes': 95.62332210998166}\n",
      "{'lait': 209.50172102376072, 'oeuf': 259.42353910971485, 'beurre': 103.12174417847325, 'crème': 537.1863343031141, 'fromage': 81.9515404796066, 'Goûter': 223.38388984648932, 'Fruit': 64.45681205005357, 'légumes': 261.61898308129696}\n",
      "{'lait': 53.17213523191691, 'oeuf': 140.31944094794335, 'beurre': 185.31614187480807, 'crème': 58.4059208580956, 'fromage': 61.643392905132885, 'Goûter': 213.94067410883497, 'Fruit': 144.74951537484162, 'légumes': 163.587650208943}\n",
      "{'lait': 64.91295709013002, 'oeuf': 145.4398374072651, 'beurre': 191.05193543448638, 'crème': 197.85954122458503, 'fromage': 165.13604606575853, 'Goûter': 83.39488036597027, 'Fruit': 214.68679693040954, 'légumes': 63.77773198823893}\n",
      "{'lait': 187.1563910655055, 'oeuf': 327.7243867051786, 'beurre': 78.60817998422047, 'crème': 57.141372934683616, 'fromage': 53.233897296370046, 'Goûter': 90.62383160494824, 'Fruit': 108.34131422771178, 'légumes': 165.2761799192624}\n",
      "{'lait': 68.69164728796395, 'oeuf': 78.38519148227445, 'beurre': 140.5777677810861, 'crème': 273.93092439356866, 'fromage': 118.65566295525983, 'Goûter': 70.47623050773811, 'Fruit': 90.5205016534214, 'légumes': 110.885614876677}\n",
      "{'lait': 312.68164275060633, 'oeuf': 84.48693033246977, 'beurre': 230.7158165770727, 'crème': 173.93482348525484, 'fromage': 65.69777660577438, 'Goûter': 93.80423172916758, 'Fruit': 86.9247133870483, 'légumes': 62.495594583266254}\n",
      "{'lait': 87.23618594560091, 'oeuf': 204.26952787320863, 'beurre': 108.84890521413601, 'crème': 66.84642250412833, 'fromage': 68.86435417532583, 'Goûter': 95.94071088482589, 'Fruit': 78.36599114877367, 'légumes': 110.56382918145579}\n",
      "{'lait': 98.20469891906029, 'oeuf': 161.38219082014166, 'beurre': 97.42818541466464, 'crème': 230.40720066581648, 'fromage': 198.5431188934541, 'Goûter': 345.460520522348, 'Fruit': 274.26575341208877, 'légumes': 184.68249338863097}\n",
      "{'lait': 126.05401666430242, 'oeuf': 144.9597389953786, 'beurre': 133.78262345636637, 'crème': 105.77227198871978, 'fromage': 63.91797085567289, 'Goûter': 83.87117200393233, 'Fruit': 279.6450983949864, 'légumes': 81.2280786946117}\n",
      "{'lait': 63.917610623177325, 'oeuf': 55.488840773512635, 'beurre': 171.70622122293096, 'crème': 68.94225315142819, 'fromage': 102.34856076942083, 'Goûter': 149.84030988368963, 'Fruit': 204.62555403418392, 'légumes': 151.23449028724008}\n",
      "{'lait': 150.82576065571226, 'oeuf': 64.00499120412238, 'beurre': 161.20239759728747, 'crème': 300.59302282527295, 'fromage': 58.162201225332126, 'Goûter': 96.94166538592873, 'Fruit': 78.97144073607993, 'légumes': 77.12701675298383}\n",
      "{'lait': 102.94688299318904, 'oeuf': 96.54949505331021, 'beurre': 129.3836464638558, 'crème': 45.46620173363561, 'fromage': 212.41847179651737, 'Goûter': 230.83223039172293, 'Fruit': 108.65690795803081, 'légumes': 79.02629438281974}\n",
      "{'lait': 91.34804897407636, 'oeuf': 157.82367327917348, 'beurre': 76.9808807252951, 'crème': 73.31269656186862, 'fromage': 80.63731761986705, 'Goûter': 157.98448560791843, 'Fruit': 192.18604538960173, 'légumes': 125.42717783755248}\n",
      "{'lait': 67.98896138318128, 'oeuf': 473.0765378057865, 'beurre': 104.12518687179075, 'crème': 88.9024053313441, 'fromage': 137.90690894863127, 'Goûter': 85.62111599956262, 'Fruit': 91.91176637524005, 'légumes': 190.65432779056056}\n",
      "{'lait': 155.3529128657783, 'oeuf': 91.35582631649643, 'beurre': 127.38195815004381, 'crème': 256.1804529763724, 'fromage': 82.03774143394372, 'Goûter': 105.90946408878469, 'Fruit': 96.39627917244383, 'légumes': 341.9846240997723}\n",
      "{'lait': 242.83139683280365, 'oeuf': 105.42509790159664, 'beurre': 335.5433807408363, 'crème': 97.49703903942566, 'fromage': 140.55532552613056, 'Goûter': 101.6246163901061, 'Fruit': 68.68787942057988, 'légumes': 111.20070783868348}\n",
      "{'lait': 555.4886966707421, 'oeuf': 101.3532917381778, 'beurre': 77.03243958882521, 'crème': 56.33292330417946, 'fromage': 71.05070989740231, 'Goûter': 132.42424485760966, 'Fruit': 205.8472374370996, 'légumes': 241.16485206680989}\n",
      "{'lait': 110.36628818748997, 'oeuf': 201.53440712034353, 'beurre': 206.42224597398854, 'crème': 115.18481057885688, 'fromage': 153.78843828417882, 'Goûter': 106.54077000201387, 'Fruit': 110.79204804359604, 'légumes': 151.83175549449567}\n"
     ]
    }
   ],
   "source": [
    "#Collecte des résultats\n",
    "\n",
    "#Denrées perdues \n",
    "Gaspillage = 0\n",
    "for magasin in Magasin : \n",
    "    x = magasin.Rebut()\n",
    "    print(x)\n",
    "    for product in x.keys() :\n",
    "        Gaspillage += x[product]\n",
    "\n",
    "#Demandes non satisfaites \n",
    "Pénurie = 0\n",
    "for magasin in Magasin : \n",
    "    Pénurie += magasin.quantitéRupture \n",
    "\n",
    "#total des ventes \n",
    "Ventes = 0\n",
    "for magasin in Magasin : \n",
    "    Ventes += magasin.ventes\n",
    "\n",
    "#enregistrement\n",
    "Scénario1 = {\"Pénurie\" : Pénurie, \"Gaspillage\":Gaspillage,\"Ventes\":Ventes}"
   ]
  },
  {
   "cell_type": "code",
   "execution_count": 101,
   "metadata": {},
   "outputs": [
    {
     "name": "stdout",
     "output_type": "stream",
     "text": [
      "Articles en rupture de stock : 103740.1181787926\n",
      "Articles jetés : 30412.395892364526\n",
      "Total des ventes : 33895810.80544602\n",
      "Gaspillage/commandes : 0.08964273951709649 %\n",
      "Rupture/ventes : 0.30605586859755757 %\n"
     ]
    }
   ],
   "source": [
    "#Affichage des résultats\n",
    "print(\"Articles en rupture de stock : \" + str(Pénurie))\n",
    "print(\"Articles jetés : \"+ str(Gaspillage))\n",
    "print(\"Total des ventes : \"+str(Ventes))\n",
    "print(\"Gaspillage/commandes : \"+  str(100*Gaspillage/(Gaspillage+Ventes)) + \" %\")\n",
    "print(\"Rupture/ventes : \"+  str(100*Pénurie/Ventes) +\" %\")"
   ]
  },
  {
   "cell_type": "markdown",
   "metadata": {},
   "source": [
    "Scénario 2 : Donnation à une seule organisation "
   ]
  },
  {
   "cell_type": "code",
   "execution_count": 93,
   "metadata": {},
   "outputs": [],
   "source": [
    "#instantiation des magasins, des banques alimentaires et des clients \n",
    "Magasin = []\n",
    "for i in range(n):\n",
    "    Magasin.append(supplyactor.Supermarket(1+VarTM*np.random.random(),\"marque\"+str(i),i))\n",
    "\n",
    "for magasin in Magasin : \n",
    "    magasin.clients.append(supplyactor.Customer(10*magasin.taille,2*magasin.taille)) #clients\n",
    "    magasin.BanqueDeDons.append(supplyactor.BanqueAlimentaire(0.3*magasin.taille,0.02*magasin.taille)) #banques alimentaires "
   ]
  },
  {
   "cell_type": "code",
   "execution_count": 94,
   "metadata": {},
   "outputs": [],
   "source": [
    "#initialisation des process ARMA pour les clients\n",
    "for i in range(10*supplyactor.grande_période) : \n",
    "    for magasin in Magasin : \n",
    "        for client in magasin.clients : \n",
    "            client.ARMA()\n",
    "\n",
    "#initialisation des prédictions pour les magasins\n",
    "for i in range(10*supplyactor.grande_période) : \n",
    "    for magasin in Magasin : \n",
    "        magasin.EnregistrementDemande()\n",
    "        for client in magasin.clients : \n",
    "            client.ARMA()\n",
    "            \n",
    "#première commande \n",
    "for magasin in Magasin : \n",
    "    magasin.Commande()\n"
   ]
  },
  {
   "cell_type": "code",
   "execution_count": 95,
   "metadata": {},
   "outputs": [],
   "source": [
    "#Simulation\n",
    "for i in tqdm(range(100*supplyactor.grande_période)):\n",
    "\n",
    "    supplyactor.temps() #Incrément de temps \n",
    "\n",
    "    for magasin in Magasin:\n",
    "        magasin.Inventaire() #état des stocks\n",
    "        magasin.Vente() #ventes aux clients des produits disponible en fonction des demandes de leur clients \n",
    "        magasin.Dons() #dons aux banques \n",
    "        magasin.EnregistrementDemande() #enregistrement de la demande des clients pour les commandes futures \n",
    "\n",
    "        for client in magasin.clients : \n",
    "            client.ARMA() #actualisation de la demade des clients \n",
    "\n",
    "        for banque in magasin.BanqueDeDons : \n",
    "            banque.ARMA() #actualisation de la demade des banques alimentaires \n",
    "\n",
    "        if i % supplyactor.grande_période == 0:\n",
    "            magasin.Inventaire() #état des stocks\n",
    "            magasin.Commande() #commande aux suppliers"
   ]
  },
  {
   "cell_type": "code",
   "execution_count": 96,
   "metadata": {},
   "outputs": [
    {
     "name": "stdout",
     "output_type": "stream",
     "text": [
      "{'lait': 18.277083265726677, 'oeuf': 301.39180808087167, 'beurre': 123.64411042741165, 'crème': 9.925922761220987, 'fromage': 33.868342627073595, 'Goûter': 143.86101597306595, 'Fruit': 2.4467840788660986, 'légumes': 51.57660564527448}\n",
      "{'lait': 82.17745399273745, 'oeuf': 129.5540193843052, 'beurre': 63.47942126399913, 'crème': 159.94399514853882, 'fromage': 18.68995036156324, 'Goûter': 20.710983803990896, 'Fruit': 36.71851318989059, 'légumes': 23.593197030812497}\n",
      "{'lait': 105.59906190103172, 'oeuf': 19.70936916429628, 'beurre': 7.413128267854876, 'crème': 8.026178749558587, 'fromage': 7.064128615645658, 'Goûter': 33.99262759755197, 'Fruit': 27.07463588760958, 'légumes': 46.760518403263674}\n",
      "{'lait': 13.885263642446759, 'oeuf': 97.6105068458051, 'beurre': 33.01271128903635, 'crème': 34.26474959102417, 'fromage': 56.468692565195454, 'Goûter': 17.624641298247752, 'Fruit': 141.7022206888446, 'légumes': 23.76248484146071}\n",
      "{'lait': 102.65753325901227, 'oeuf': 32.02269494374558, 'beurre': 22.80633835692442, 'crème': 53.51211987840294, 'fromage': 50.81833357678916, 'Goûter': 34.979497001723615, 'Fruit': 68.72434264652257, 'légumes': 16.93347244115367}\n",
      "{'lait': 497.44193005220853, 'oeuf': 0, 'beurre': 34.53009266622723, 'crème': 252.5250832169061, 'fromage': 38.425739350441035, 'Goûter': 132.95341720755928, 'Fruit': 22.160959005301027, 'légumes': 82.44809871468304}\n",
      "{'lait': 111.62186303700871, 'oeuf': 94.35195996148282, 'beurre': 18.67347734078677, 'crème': 50.256220571109544, 'fromage': 183.6364389361811, 'Goûter': 87.19405254036822, 'Fruit': 537.0677386255296, 'légumes': 53.132011607423024}\n",
      "{'lait': 99.63987374065519, 'oeuf': 30.688189596586316, 'beurre': 26.40578919117818, 'crème': 170.98794916249423, 'fromage': 300.03345707264407, 'Goûter': 58.04022168348886, 'Fruit': 299.64227561797674, 'légumes': 55.8375606762191}\n",
      "{'lait': 1081.5434475948668, 'oeuf': 21.587885619137534, 'beurre': 51.841472969409764, 'crème': 208.66153393203786, 'fromage': 8.841714422923205, 'Goûter': 133.9895369725955, 'Fruit': 18.966651980235206, 'légumes': 14.809515356064416}\n",
      "{'lait': 17.35461083319867, 'oeuf': 336.51184600872364, 'beurre': 5.092009936013214, 'crème': 86.83480630693285, 'fromage': 13.730600089151002, 'Goûter': 79.16240229246625, 'Fruit': 26.10172363900218, 'légumes': 149.20568581325224}\n",
      "{'lait': 34.92338034810545, 'oeuf': 41.597970366119625, 'beurre': 28.015364023495486, 'crème': 51.26968433214512, 'fromage': 16.29859014009566, 'Goûter': 25.248804160587863, 'Fruit': 432.25014491078326, 'légumes': 0}\n",
      "{'lait': 143.82566989826708, 'oeuf': 42.33119365234039, 'beurre': 88.46793438247197, 'crème': 98.8036795029396, 'fromage': 76.80258562157061, 'Goûter': 28.79483479086343, 'Fruit': 57.89960045886401, 'légumes': 42.022065200540666}\n",
      "{'lait': 37.66562678025773, 'oeuf': 27.39273668164126, 'beurre': 4.325125686485485, 'crème': 3.029721071166244, 'fromage': 16.631206690425344, 'Goûter': 8.864102040862235, 'Fruit': 24.63854994160848, 'légumes': 1.3291373693203954}\n",
      "{'lait': 9.268858316925664, 'oeuf': 66.34036902402575, 'beurre': 80.65797989943358, 'crème': 45.3153374843283, 'fromage': 87.23378477526714, 'Goûter': 21.118523880823886, 'Fruit': 77.27166542772953, 'légumes': 50.341476775334925}\n",
      "{'lait': 127.44285856781248, 'oeuf': 67.67081289885792, 'beurre': 45.31789471759967, 'crème': 30.78903032681754, 'fromage': 16.274028857147435, 'Goûter': 118.21047054150476, 'Fruit': 0, 'légumes': 34.798749159086505}\n",
      "{'lait': 35.9613190417224, 'oeuf': 161.740827894832, 'beurre': 163.87545137665143, 'crème': 51.47505859202766, 'fromage': 80.84622335406678, 'Goûter': 46.55355071031203, 'Fruit': 84.47518990361529, 'légumes': 62.78314119730524}\n",
      "{'lait': 0, 'oeuf': 102.47678112676364, 'beurre': 4.102308156380234, 'crème': 10.713662822102293, 'fromage': 86.1188218552901, 'Goûter': 1.0942786204359967, 'Fruit': 55.80767711317545, 'légumes': 130.13596058423875}\n",
      "{'lait': 97.17609031939111, 'oeuf': 18.994701727821663, 'beurre': 15.995701938931274, 'crème': 9.799998455883044, 'fromage': 41.06757033860945, 'Goûter': 47.20476165927489, 'Fruit': 46.89457063414845, 'légumes': 50.363082458896955}\n",
      "{'lait': 59.909294772800266, 'oeuf': 13.470111881833057, 'beurre': 79.85603431060254, 'crème': 126.28224598307204, 'fromage': 52.72527766582518, 'Goûter': 181.74266165793554, 'Fruit': 104.00362600498498, 'légumes': 31.905258624509386}\n",
      "{'lait': 99.81165109637476, 'oeuf': 336.9628943052858, 'beurre': 32.285804534842946, 'crème': 124.08479730712406, 'fromage': 270.24834936980443, 'Goûter': 110.49161030332517, 'Fruit': 26.106292895699777, 'légumes': 65.1406507284938}\n",
      "{'lait': 149.11626072851075, 'oeuf': 14.021774520536184, 'beurre': 45.97737497501918, 'crème': 15.134417084705886, 'fromage': 314.59788655047214, 'Goûter': 3.6985134997243345, 'Fruit': 68.49758091382112, 'légumes': 8.595551379629812}\n",
      "{'lait': 128.92092533499925, 'oeuf': 38.227962708545725, 'beurre': 51.188127803810666, 'crème': 36.66329711096503, 'fromage': 70.88020662370813, 'Goûter': 25.61915959467633, 'Fruit': 14.998399429199019, 'légumes': 43.83347283962342}\n",
      "{'lait': 47.582434661996125, 'oeuf': 111.00186143757635, 'beurre': 7.013981342972203, 'crème': 112.13465843163286, 'fromage': 61.47210856006221, 'Goûter': 326.55774576863854, 'Fruit': 6.484964135080908, 'légumes': 124.85216090032355}\n",
      "{'lait': 28.013956398679653, 'oeuf': 79.05640148557075, 'beurre': 98.56217338969029, 'crème': 14.154255785055314, 'fromage': 42.125382945815204, 'Goûter': 88.32609015543518, 'Fruit': 183.55656094992978, 'légumes': 61.141174717815595}\n",
      "{'lait': 70.44035420609023, 'oeuf': 31.571094330477905, 'beurre': 55.04898306726292, 'crème': 22.70290406278949, 'fromage': 67.26144075591104, 'Goûter': 64.14940666478114, 'Fruit': 21.565575992078905, 'légumes': 26.253489850004787}\n",
      "{'lait': 126.86193688246203, 'oeuf': 165.44941643047966, 'beurre': 11.379186708881367, 'crème': 113.49963697997, 'fromage': 32.34970144988222, 'Goûter': 44.74859779052587, 'Fruit': 83.21837162411855, 'légumes': 72.7674760567519}\n",
      "{'lait': 31.558896790406887, 'oeuf': 49.675832751609285, 'beurre': 60.16573920761303, 'crème': 21.544101875849847, 'fromage': 57.49960972006066, 'Goûter': 52.7379867612165, 'Fruit': 81.85639003176179, 'légumes': 8.267907102272517}\n",
      "{'lait': 106.89382599024127, 'oeuf': 17.077319094059206, 'beurre': 97.70215085952586, 'crème': 85.52260868657184, 'fromage': 234.48843543472918, 'Goûter': 73.78253479209644, 'Fruit': 30.113412556577874, 'légumes': 18.68788234267492}\n",
      "{'lait': 1.5865648332606734, 'oeuf': 60.37672999983254, 'beurre': 20.816467770371883, 'crème': 89.50827328028227, 'fromage': 78.64367876557964, 'Goûter': 43.59060139301941, 'Fruit': 45.308109257474584, 'légumes': 18.381815707605647}\n",
      "{'lait': 120.23990364406788, 'oeuf': 27.176031346190562, 'beurre': 67.57107063551561, 'crème': 101.25210651420247, 'fromage': 27.345144823945006, 'Goûter': 24.187064532881784, 'Fruit': 3.6975174387185588, 'légumes': 143.1723000760969}\n",
      "{'lait': 59.40566251917264, 'oeuf': 14.355821092432334, 'beurre': 20.031028830153335, 'crème': 65.76664201948486, 'fromage': 207.80350211745423, 'Goûter': 141.62849397583835, 'Fruit': 42.25598014910715, 'légumes': 34.51885824394158}\n",
      "{'lait': 64.7390171110462, 'oeuf': 50.85062625301673, 'beurre': 59.63390125860877, 'crème': 79.8571599530365, 'fromage': 100.26773334410184, 'Goûter': 146.94886013128055, 'Fruit': 161.0165587668418, 'légumes': 50.65680667260339}\n",
      "{'lait': 0, 'oeuf': 58.432506691838704, 'beurre': 32.106843093785656, 'crème': 95.77097954056356, 'fromage': 12.876753240080742, 'Goûter': 68.34525392879064, 'Fruit': 63.7874074523352, 'légumes': 58.33104648302634}\n",
      "{'lait': 32.75988306367434, 'oeuf': 65.92161547524776, 'beurre': 85.90231578114064, 'crème': 120.46603466986866, 'fromage': 25.548943176366457, 'Goûter': 21.309831392497536, 'Fruit': 23.173558515423053, 'légumes': 136.08311402578462}\n",
      "{'lait': 53.01781145216371, 'oeuf': 21.780600811399186, 'beurre': 58.97671453365721, 'crème': 9.556342758852423, 'fromage': 30.071286343798636, 'Goûter': 25.11508943537518, 'Fruit': 126.87121822869943, 'légumes': 48.923860377476935}\n",
      "{'lait': 50.18011386819091, 'oeuf': 36.226059975323835, 'beurre': 103.87440175540313, 'crème': 64.51557219269141, 'fromage': 101.8003575932172, 'Goûter': 36.829108413686846, 'Fruit': 92.5315656843938, 'légumes': 17.40790528262929}\n",
      "{'lait': 51.8273970238823, 'oeuf': 18.64255765923576, 'beurre': 142.29610072832315, 'crème': 61.59448831599166, 'fromage': 75.96567246977293, 'Goûter': 52.15184213069076, 'Fruit': 45.17140694038649, 'légumes': 64.07385356151748}\n",
      "{'lait': 530.3425822734878, 'oeuf': 26.346737340669115, 'beurre': 17.289420652428305, 'crème': 105.59866246505004, 'fromage': 55.24947288495832, 'Goûter': 25.438149618955965, 'Fruit': 80.53712868014549, 'légumes': 95.65395838741927}\n",
      "{'lait': 31.793017082159825, 'oeuf': 42.72821139659584, 'beurre': 249.59345132449488, 'crème': 97.3104953275305, 'fromage': 92.31704050231656, 'Goûter': 487.95517464511653, 'Fruit': 51.02341128016921, 'légumes': 44.0396204804011}\n",
      "{'lait': 62.77717546346602, 'oeuf': 216.67462239755122, 'beurre': 172.12534592373888, 'crème': 622.5734616099392, 'fromage': 84.74089264073203, 'Goûter': 34.772742876605506, 'Fruit': 99.20258127050006, 'légumes': 91.34832492480896}\n",
      "{'lait': 149.25983325355526, 'oeuf': 33.8976751058285, 'beurre': 6.234650623703811, 'crème': 45.09639367527913, 'fromage': 46.18384988938469, 'Goûter': 26.151742725274755, 'Fruit': 181.67753420959835, 'légumes': 91.46497394032546}\n",
      "{'lait': 59.87872346273942, 'oeuf': 8.275305202062924, 'beurre': 55.35094261109372, 'crème': 44.030225951213005, 'fromage': 242.54571778368873, 'Goûter': 23.411142930641404, 'Fruit': 10.164454326839415, 'légumes': 59.208796803158556}\n",
      "{'lait': 53.236124384981025, 'oeuf': 11.276479006638247, 'beurre': 108.2284989036924, 'crème': 121.54547861439653, 'fromage': 23.831273540284602, 'Goûter': 71.81863878019932, 'Fruit': 38.62292788406001, 'légumes': 19.648836368581673}\n",
      "{'lait': 17.384542553671334, 'oeuf': 99.01185549864758, 'beurre': 127.88013658262247, 'crème': 27.908265227843906, 'fromage': 32.45469140083207, 'Goûter': 203.514514333032, 'Fruit': 120.17959510276191, 'légumes': 25.00935326831623}\n",
      "{'lait': 162.58666635916617, 'oeuf': 82.46291280566723, 'beurre': 34.843330726833095, 'crème': 116.32082029054267, 'fromage': 15.5391669788859, 'Goûter': 45.899904593301855, 'Fruit': 121.02962005989536, 'légumes': 171.03123261778916}\n",
      "{'lait': 54.443454488191236, 'oeuf': 6.680976895638444, 'beurre': 50.55584860635413, 'crème': 4.382580343558619, 'fromage': 30.712102448733116, 'Goûter': 70.50763562706425, 'Fruit': 83.43439903515721, 'légumes': 53.96164081997268}\n",
      "{'lait': 57.59109667450873, 'oeuf': 57.07188912294109, 'beurre': 323.0233024796338, 'crème': 75.84752605539656, 'fromage': 32.27845771514258, 'Goûter': 99.24719488061977, 'Fruit': 14.05631041323467, 'légumes': 29.406641743733065}\n",
      "{'lait': 47.504670555015046, 'oeuf': 69.8609268084039, 'beurre': 26.274553242307153, 'crème': 96.11949009892618, 'fromage': 29.61024148001064, 'Goûter': 90.6388743596003, 'Fruit': 62.706527709227196, 'légumes': 18.64933544319941}\n",
      "{'lait': 8.114493485589476, 'oeuf': 9.722761294722433, 'beurre': 3.91972326619093, 'crème': 26.802674879572486, 'fromage': 66.17781638394548, 'Goûter': 63.62382163291171, 'Fruit': 1.6349221962874236, 'légumes': 50.01989534098274}\n",
      "{'lait': 130.93922973544278, 'oeuf': 31.013773251538954, 'beurre': 8.111172765586831, 'crème': 3.100618091764061, 'fromage': 54.614053254052116, 'Goûter': 1.0349185764200732, 'Fruit': 67.39818534979328, 'légumes': 29.040028591583997}\n"
     ]
    }
   ],
   "source": [
    "#Collecte des résultats\n",
    "\n",
    "#Denrées perdues \n",
    "Gaspillage = 0\n",
    "for magasin in Magasin : \n",
    "    x = magasin.Rebut()\n",
    "    print(x)\n",
    "    for product in x.keys() :\n",
    "        Gaspillage += x[product]\n",
    "\n",
    "#Demandes non satisfaites \n",
    "Pénurie = 0\n",
    "for magasin in Magasin : \n",
    "    Pénurie += magasin.quantitéRupture \n",
    "\n",
    "#total des ventes \n",
    "Ventes = 0\n",
    "for magasin in Magasin : \n",
    "    Ventes += magasin.ventes\n",
    "\n",
    "#total des dons\n",
    "Dons = 0 \n",
    "for magasin in Magasin : \n",
    "    Dons += magasin.dons\n",
    "\n",
    "#enregistrement\n",
    "Scénario2 = {\"Pénurie\" : Pénurie, \"Gaspillage\":Gaspillage,\"Ventes\":Ventes, \"Dons\":Dons}"
   ]
  },
  {
   "cell_type": "code",
   "execution_count": 97,
   "metadata": {},
   "outputs": [
    {
     "name": "stdout",
     "output_type": "stream",
     "text": [
      "Articles en rupture de stock : 103740.1181787926\n",
      "Articles jetés : 30412.395892364526\n",
      "Articles données : 23734.83719446744\n",
      "Total des ventes : 33895810.80544602\n",
      "Gaspillage/commandes : 0.08964273951709649 %\n",
      "Rupture/ventes : 0.30605586859755757 %\n"
     ]
    }
   ],
   "source": [
    "#Affichage des résultats\n",
    "print(\"Articles en rupture de stock : \" + str(Pénurie))\n",
    "print(\"Articles jetés : \"+ str(Gaspillage))\n",
    "print(\"Articles données : \"+ str(Dons))\n",
    "print(\"Total des ventes : \"+str(Ventes))\n",
    "print(\"Gaspillage/commandes : \"+  str(100*Gaspillage/(Gaspillage+Ventes)) + \" %\")\n",
    "print(\"Rupture/ventes : \"+  str(100*Pénurie/Ventes) +\" %\")"
   ]
  },
  {
   "cell_type": "markdown",
   "metadata": {},
   "source": [
    "Scénario 3 : donnation à un groupe d'association"
   ]
  },
  {
   "cell_type": "code",
   "execution_count": 115,
   "metadata": {},
   "outputs": [],
   "source": [
    "#instantiation des magasins, des banques alimentaires et des clients \n",
    "Magasin = []\n",
    "Banques = []\n",
    "for i in range(n):\n",
    "    taille = 1+VarTM*np.random.random()\n",
    "    Magasin.append(supplyactor.Supermarket(taille,\"marque\"+str(i),i)) #magasin\n",
    "    Banques.append(supplyactor.BanqueAlimentaire(0.04*taille,0.02*taille)) #banque alimentaire\n",
    "    \n",
    "for magasin in Magasin : \n",
    "    magasin.clients.append(supplyactor.Customer(10*magasin.taille,2*magasin.taille)) #client\n",
    "    magasin.BanqueDeDons = Banques #on associe l'enssemble des banques alimentaires à chaque magasin"
   ]
  },
  {
   "cell_type": "code",
   "execution_count": 116,
   "metadata": {},
   "outputs": [],
   "source": [
    "#initialisation des process ARMA pour les clients\n",
    "for i in range(10*supplyactor.grande_période) : \n",
    "    for magasin in Magasin : \n",
    "        for client in magasin.clients : \n",
    "            client.ARMA()\n",
    "\n",
    "#initialisation des prédictions pour les magasins\n",
    "for i in range(10*supplyactor.grande_période) : \n",
    "    for banque in Banques : \n",
    "        banque.ARMA()\n",
    "    for magasin in Magasin : \n",
    "        magasin.EnregistrementDemande()\n",
    "        for client in magasin.clients : \n",
    "            client.ARMA()\n",
    "\n",
    "#première commande\n",
    "for magasin in Magasin : \n",
    "    magasin.Commande()\n"
   ]
  },
  {
   "cell_type": "code",
   "execution_count": 119,
   "metadata": {},
   "outputs": [
    {
     "name": "stderr",
     "output_type": "stream",
     "text": [
      "100%|██████████| 1400/1400 [00:16<00:00, 85.40it/s]\n"
     ]
    }
   ],
   "source": [
    "#Simulation\n",
    "for i in tqdm(range(100*supplyactor.grande_période)):\n",
    "\n",
    "    supplyactor.temps() #incrément de temps \n",
    "\n",
    "    for banque in Banques : \n",
    "        banque.ARMA() #actualisation de la demade des banques alimentaires \n",
    "\n",
    "    for magasin in Magasin:\n",
    "        magasin.Inventaire() #etat des stocks\n",
    "        magasin.Vente() #ventes aux clients des produits disponible en fonction des demandes de leur clients \n",
    "        magasin.Dons() #dons aux banques \n",
    "        magasin.EnregistrementDemande() #enregistrement de la demande des clients pour les commandes futures \n",
    "\n",
    "        for client in magasin.clients : \n",
    "            client.ARMA() #actualisation de la demade des clients\n",
    "        \n",
    "        if i % supplyactor.grande_période == 0:\n",
    "            magasin.Inventaire() #etat des stocks\n",
    "            magasin.Commande() #commande aux suppliers "
   ]
  },
  {
   "cell_type": "code",
   "execution_count": 112,
   "metadata": {},
   "outputs": [
    {
     "name": "stdout",
     "output_type": "stream",
     "text": [
      "{'lait': 0, 'oeuf': 0, 'beurre': 0, 'crème': 0, 'fromage': 0, 'Goûter': 0, 'Fruit': 0, 'légumes': 0}\n",
      "{'lait': 0, 'oeuf': 0, 'beurre': 0, 'crème': 0, 'fromage': 0, 'Goûter': 0, 'Fruit': 0, 'légumes': 0}\n",
      "{'lait': 0, 'oeuf': 0, 'beurre': 0, 'crème': 0, 'fromage': 0, 'Goûter': 0, 'Fruit': 0, 'légumes': 0}\n",
      "{'lait': 0, 'oeuf': 0, 'beurre': 0, 'crème': 0, 'fromage': 0, 'Goûter': 0, 'Fruit': 0, 'légumes': 0}\n",
      "{'lait': 0, 'oeuf': 0, 'beurre': 0, 'crème': 0, 'fromage': 0, 'Goûter': 0, 'Fruit': 0, 'légumes': 0}\n",
      "{'lait': 0, 'oeuf': 0, 'beurre': 0, 'crème': 0, 'fromage': 0, 'Goûter': 0, 'Fruit': 0, 'légumes': 0}\n",
      "{'lait': 0, 'oeuf': 0, 'beurre': 0, 'crème': 0.13615646701456852, 'fromage': 0, 'Goûter': 0, 'Fruit': 0, 'légumes': 0}\n",
      "{'lait': 0, 'oeuf': 0, 'beurre': 0, 'crème': 0, 'fromage': 0, 'Goûter': 0, 'Fruit': 0, 'légumes': 0}\n",
      "{'lait': 0, 'oeuf': 0, 'beurre': 0, 'crème': 0, 'fromage': 0, 'Goûter': 0.1480875478310415, 'Fruit': 0, 'légumes': 72.44384678331275}\n",
      "{'lait': 0, 'oeuf': 0, 'beurre': 0, 'crème': 0, 'fromage': 0, 'Goûter': 0, 'Fruit': 0, 'légumes': 7.378093720408593}\n",
      "{'lait': 0, 'oeuf': 0, 'beurre': 0, 'crème': 0, 'fromage': 0, 'Goûter': 0, 'Fruit': 0, 'légumes': 0}\n",
      "{'lait': 0, 'oeuf': 0, 'beurre': 0, 'crème': 0, 'fromage': 0, 'Goûter': 0, 'Fruit': 0, 'légumes': 17.512900428776504}\n",
      "{'lait': 0.16218173531355665, 'oeuf': 0, 'beurre': 4.937659478158473, 'crème': 6.149456209333247, 'fromage': 0, 'Goûter': 0.28111360085276643, 'Fruit': 0, 'légumes': 24.62427768929271}\n",
      "{'lait': 0, 'oeuf': 0, 'beurre': 0, 'crème': 1.867397274987887, 'fromage': 0.26412423421441367, 'Goûter': 0.3125506619388936, 'Fruit': 0, 'légumes': 0}\n",
      "{'lait': 0, 'oeuf': 0, 'beurre': 0, 'crème': 0, 'fromage': 0, 'Goûter': 0.6476685360330459, 'Fruit': 0.10768346149635111, 'légumes': 7.4460916269310085}\n",
      "{'lait': 0, 'oeuf': 0, 'beurre': 0.23891986593241077, 'crème': 7.070817179808955, 'fromage': 0, 'Goûter': 0.5935232806217057, 'Fruit': 0, 'légumes': 12.062033824012053}\n",
      "{'lait': 0, 'oeuf': 0, 'beurre': 0.48613488986537406, 'crème': 0, 'fromage': 0, 'Goûter': 0.2579902577161093, 'Fruit': 0, 'légumes': 3.7435431362175606}\n",
      "{'lait': 0, 'oeuf': 0.12349429741216156, 'beurre': 0, 'crème': 1.9615524926998447, 'fromage': 0, 'Goûter': 2.0306533993668054, 'Fruit': 0, 'légumes': 6.657097552821331}\n",
      "{'lait': 0, 'oeuf': 5.174313435035895, 'beurre': 11.772856847048452, 'crème': 3.5639929292844243, 'fromage': 0, 'Goûter': 1.6203460052747218, 'Fruit': 0, 'légumes': 5.685248062260111}\n",
      "{'lait': 0, 'oeuf': 27.213221715088945, 'beurre': 0, 'crème': 3.1658124783531747, 'fromage': 8.832039037836548, 'Goûter': 0, 'Fruit': 0.113840272500084, 'légumes': 11.978529077075796}\n",
      "{'lait': 14.295230007361058, 'oeuf': 0, 'beurre': 32.73208169685898, 'crème': 0, 'fromage': 0, 'Goûter': 11.448099032857723, 'Fruit': 0.26447544773536014, 'légumes': 20.69291204638379}\n",
      "{'lait': 0, 'oeuf': 0, 'beurre': 7.37436389221539, 'crème': 2.087096320662404, 'fromage': 7.0745850294544, 'Goûter': 6.659894447247957, 'Fruit': 0, 'légumes': 10.340619472492058}\n",
      "{'lait': 0, 'oeuf': 10.6838820162802, 'beurre': 6.658175639983966, 'crème': 0, 'fromage': 18.46143531621511, 'Goûter': 8.64877272737796, 'Fruit': 0, 'légumes': 11.632983147000289}\n",
      "{'lait': 5.5640808818494065, 'oeuf': 13.678046443901037, 'beurre': 0.6795112787426959, 'crème': 0, 'fromage': 0, 'Goûter': 13.47892355099667, 'Fruit': 0, 'légumes': 355.4866545396386}\n",
      "{'lait': 4.7460322249711595, 'oeuf': 12.245917704120465, 'beurre': 13.661519610414231, 'crème': 0, 'fromage': 8.254925162272233, 'Goûter': 0.7160520576279872, 'Fruit': 0, 'légumes': 23.452091239324176}\n",
      "{'lait': 1.1473132029766724, 'oeuf': 7.104768802183383, 'beurre': 5.806519597033558, 'crème': 11.322979289641848, 'fromage': 0.4285066885478024, 'Goûter': 6.934263496011269, 'Fruit': 0, 'légumes': 35.33078458266192}\n",
      "{'lait': 0.5040660692760699, 'oeuf': 6.530427644239513, 'beurre': 9.405143670546517, 'crème': 0, 'fromage': 21.407758480205963, 'Goûter': 1.3884884571286342, 'Fruit': 0, 'légumes': 22.168410397549696}\n",
      "{'lait': 0.10679371283910011, 'oeuf': 20.451264369362033, 'beurre': 15.754478804892244, 'crème': 80.2759536808839, 'fromage': 6.066570081873246, 'Goûter': 6.25831416956896, 'Fruit': 0, 'légumes': 39.555999571569636}\n",
      "{'lait': 0, 'oeuf': 4.81758934615933, 'beurre': 1.7888284930708735, 'crème': 60.76610098218859, 'fromage': 20.616693541780183, 'Goûter': 17.42267239164233, 'Fruit': 0, 'légumes': 17.151802497250813}\n",
      "{'lait': 1.057971214643871, 'oeuf': 10.34183399812077, 'beurre': 2.1194486767663037, 'crème': 8.845290999806743, 'fromage': 34.10334635277741, 'Goûter': 13.289562744915864, 'Fruit': 0, 'légumes': 32.26342030486784}\n",
      "{'lait': 8.753839947458655, 'oeuf': 4.650515555950747, 'beurre': 7.249628947509433, 'crème': 4.719790624532032, 'fromage': 3.219555499373307, 'Goûter': 5.649228498671785, 'Fruit': 0, 'légumes': 25.87489296821076}\n",
      "{'lait': 139.09708535088902, 'oeuf': 6.5372406567553405, 'beurre': 0, 'crème': 11.915506246320154, 'fromage': 33.60461244286488, 'Goûter': 19.96535927306142, 'Fruit': 9.4605718560293, 'légumes': 105.65543982050391}\n",
      "{'lait': 21.01908308158438, 'oeuf': 53.38956376589547, 'beurre': 7.030130848666634, 'crème': 27.89001191431057, 'fromage': 1.5080360468941976, 'Goûter': 48.30148496570145, 'Fruit': 4.879757167865392, 'légumes': 260.8167588402662}\n",
      "{'lait': 25.93522670412236, 'oeuf': 17.211613182331103, 'beurre': 13.18048495186045, 'crème': 12.845433775143967, 'fromage': 12.608739627898437, 'Goûter': 49.26947157003739, 'Fruit': 1.7501014191483968, 'légumes': 50.42462107030152}\n",
      "{'lait': 19.22789824593348, 'oeuf': 33.87881265956576, 'beurre': 17.82657141193426, 'crème': 35.3624175775732, 'fromage': 7.4993083310984225, 'Goûter': 3.785366239562581, 'Fruit': 0, 'légumes': 59.55017386966785}\n",
      "{'lait': 41.25336783208028, 'oeuf': 44.90190508231278, 'beurre': 0.6251497280891001, 'crème': 8.359409986485169, 'fromage': 19.90438023396024, 'Goûter': 59.93439577447632, 'Fruit': 3.3027678150772175, 'légumes': 49.986070523254256}\n",
      "{'lait': 23.34918434073686, 'oeuf': 25.225968616441886, 'beurre': 5.276135473772677, 'crème': 32.151124861409585, 'fromage': 11.574835186948128, 'Goûter': 32.99626085703778, 'Fruit': 5.750769469134724, 'légumes': 38.07480246242572}\n",
      "{'lait': 126.93224904581498, 'oeuf': 288.73956343093295, 'beurre': 17.37070254092981, 'crème': 22.489079431414268, 'fromage': 48.24041485103916, 'Goûter': 22.964481418933758, 'Fruit': 5.196858677592537, 'légumes': 27.273399165671083}\n",
      "{'lait': 42.64315873884908, 'oeuf': 13.858978481002458, 'beurre': 14.357916374485733, 'crème': 21.452967858722467, 'fromage': 11.115618508587303, 'Goûter': 25.00066170873334, 'Fruit': 9.226467334664894, 'légumes': 46.7822296505736}\n",
      "{'lait': 18.726147538803488, 'oeuf': 25.170903774418782, 'beurre': 29.442457389654376, 'crème': 38.531663447796, 'fromage': 4.484362676056538, 'Goûter': 27.79091894736804, 'Fruit': 0, 'légumes': 21.901480227693376}\n",
      "{'lait': 22.363214644274183, 'oeuf': 109.46653899459787, 'beurre': 15.207343523174188, 'crème': 11.999072669439247, 'fromage': 31.39459404113085, 'Goûter': 54.95660396824007, 'Fruit': 13.096722010768875, 'légumes': 28.493707335061774}\n",
      "{'lait': 25.287975770197086, 'oeuf': 136.19248982861637, 'beurre': 34.35500894195165, 'crème': 37.55813526720761, 'fromage': 17.910680264521467, 'Goûter': 7.324307974396234, 'Fruit': 3.887352297496147, 'légumes': 65.63484597123227}\n",
      "{'lait': 15.935725906904302, 'oeuf': 71.11545128437186, 'beurre': 174.28035455705304, 'crème': 39.584577711200545, 'fromage': 271.8273896879905, 'Goûter': 19.885972641684713, 'Fruit': 0, 'légumes': 29.488656624187616}\n",
      "{'lait': 46.9959718285036, 'oeuf': 137.06689174111347, 'beurre': 57.31275784262908, 'crème': 30.789103408952037, 'fromage': 55.20450957458073, 'Goûter': 240.2322334398989, 'Fruit': 10.485814650914172, 'légumes': 41.1168679648473}\n",
      "{'lait': 56.01944539157749, 'oeuf': 82.44447747530319, 'beurre': 69.37019360393788, 'crème': 66.46795797400046, 'fromage': 56.65521540258591, 'Goûter': 44.15862628304748, 'Fruit': 11.74163990121151, 'légumes': 95.9498237364134}\n",
      "{'lait': 132.0368189644258, 'oeuf': 61.84141277585406, 'beurre': 9.416851851753787, 'crème': 112.49430760537874, 'fromage': 23.27614517895805, 'Goûter': 41.6037648513822, 'Fruit': 6.843874197530944, 'légumes': 28.52939405816155}\n",
      "{'lait': 23.803158759272208, 'oeuf': 35.79066856924479, 'beurre': 9.004925242131403, 'crème': 121.34900807231476, 'fromage': 26.812930402127392, 'Goûter': 22.553723721841454, 'Fruit': 29.979565862061516, 'légumes': 34.586463883860276}\n",
      "{'lait': 38.89283782408882, 'oeuf': 66.04414719146128, 'beurre': 41.16136916089785, 'crème': 25.531016657812835, 'fromage': 31.966810009019866, 'Goûter': 91.7022445312708, 'Fruit': 19.62242259292691, 'légumes': 52.11541217102986}\n",
      "{'lait': 61.631307254790414, 'oeuf': 80.49198082354218, 'beurre': 17.720146403773157, 'crème': 58.71128825487535, 'fromage': 27.878855576638067, 'Goûter': 29.846449239591408, 'Fruit': 18.381863524829683, 'légumes': 40.30825106302454}\n",
      "{'lait': 17.505784375539513, 'oeuf': 51.25351328130472, 'beurre': 35.99738544934161, 'crème': 47.28976276825511, 'fromage': 68.49186850085275, 'Goûter': 60.82836978288877, 'Fruit': 45.963665863442166, 'légumes': 39.45499619882913}\n"
     ]
    }
   ],
   "source": [
    "#Collecte des résultats\n",
    "\n",
    "#Denrées perdues \n",
    "Gaspillage = 0\n",
    "for magasin in Magasin : \n",
    "    x = magasin.Rebut()\n",
    "    print(x)\n",
    "    for product in x.keys() :\n",
    "        Gaspillage += x[product]\n",
    "\n",
    "#Demandes non satisfaites \n",
    "Pénurie = 0\n",
    "for magasin in Magasin : \n",
    "    Pénurie += magasin.quantitéRupture \n",
    "\n",
    "#total des ventes \n",
    "Ventes = 0\n",
    "for magasin in Magasin : \n",
    "    Ventes += magasin.ventes\n",
    "\n",
    "#total des dons\n",
    "Dons = 0 \n",
    "for magasin in Magasin : \n",
    "    Dons += magasin.dons\n",
    "\n",
    "#enregistrement\n",
    "Scénario3 = {\"Pénurie\" : Pénurie, \"Gaspillage\":Gaspillage,\"Ventes\":Ventes, \"Dons\":Dons}"
   ]
  },
  {
   "cell_type": "code",
   "execution_count": 113,
   "metadata": {},
   "outputs": [
    {
     "name": "stdout",
     "output_type": "stream",
     "text": [
      "Articles en rupture de stock : 104645.0668422726\n",
      "Articles jetés : 8014.193535789511\n",
      "Articles données : 46328.46921291352\n",
      "Total des ventes : 29297477.162240148\n",
      "Gaspillage/commandes : 0.02734707102670695 %\n",
      "Rupture/ventes : 0.3571811533900389 %\n"
     ]
    }
   ],
   "source": [
    "#Affichage des résulats \n",
    "print(\"Articles en rupture de stock : \" + str(Pénurie))\n",
    "print(\"Articles jetés : \"+ str(Gaspillage))\n",
    "print(\"Articles données : \"+ str(Dons))\n",
    "print(\"Total des ventes : \"+str(Ventes))\n",
    "print(\"Gaspillage/commandes : \"+  str(100*Gaspillage/(Gaspillage+Ventes)) + \" %\")\n",
    "print(\"Rupture/ventes : \"+  str(100*Pénurie/Ventes) +\" %\")"
   ]
  },
  {
   "cell_type": "markdown",
   "metadata": {},
   "source": [
    "Comparaison des résulats"
   ]
  },
  {
   "cell_type": "code",
   "execution_count": 114,
   "metadata": {},
   "outputs": [
    {
     "name": "stdout",
     "output_type": "stream",
     "text": [
      "Amélioration dans le scénario2\n",
      "\n",
      "Gaspillage réduit d'un facteur :  1.8560430696832533\n",
      "Rupture réduit d'un facteur :  1.0143976851843426\n",
      "Ventes augmentée d'un facteur 0.9539073779649553 \n",
      "\n",
      "Amélioration dans le scénario3\n",
      "\n",
      "Gaspillage réduit d'un facteur :  7.043343335347319\n",
      "Rupture réduit d'un facteur :  1.005625386048365\n",
      "Ventes augmentée d'un facteur 1.1036262211372923\n"
     ]
    }
   ],
   "source": [
    "print(\"Amélioration dans le scénario2\\n\")\n",
    "print(\"Gaspillage réduit d'un facteur : \",Scénario1[\"Gaspillage\"]/Scénario2[\"Gaspillage\"])\n",
    "print(\"Rupture réduit d'un facteur : \",Scénario1[\"Pénurie\"]/Scénario2[\"Pénurie\"])\n",
    "print(\"Ventes augmentée d'un facteur\",Scénario1[\"Ventes\"]/Scénario2[\"Ventes\"],\"\\n\")\n",
    "print(\"Amélioration dans le scénario3\\n\")\n",
    "print(\"Gaspillage réduit d'un facteur : \",Scénario1[\"Gaspillage\"]/Scénario3[\"Gaspillage\"])\n",
    "print(\"Rupture réduit d'un facteur : \",Scénario1[\"Pénurie\"]/Scénario3[\"Pénurie\"])\n",
    "print(\"Ventes augmentée d'un facteur\",Scénario1[\"Ventes\"]/Scénario3[\"Ventes\"])"
   ]
  }
 ],
 "metadata": {
  "kernelspec": {
   "display_name": "Python 3",
   "language": "python",
   "name": "python3"
  },
  "language_info": {
   "codemirror_mode": {
    "name": "ipython",
    "version": 3
   },
   "file_extension": ".py",
   "mimetype": "text/x-python",
   "name": "python",
   "nbconvert_exporter": "python",
   "pygments_lexer": "ipython3",
   "version": "3.11.5"
  }
 },
 "nbformat": 4,
 "nbformat_minor": 2
}
